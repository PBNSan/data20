{
 "cells": [
  {
   "cell_type": "code",
   "execution_count": 7,
   "metadata": {},
   "outputs": [],
   "source": [
    "import numpy as np\n",
    "import pandas as pd"
   ]
  },
  {
   "cell_type": "code",
   "execution_count": 143,
   "metadata": {},
   "outputs": [],
   "source": [
    "# Load data\n",
    "df = pd.read_csv('train.csv')\n",
    "\n",
    "df = (df.dropna(subset=['review_scores_rating'])\n",
    "        # Restrict to a single \"type\" of listing\n",
    "        .query(('city == \"NYC\" and '\n",
    "                'property_type == \"Apartment\" and '\n",
    "                'room_type == \"Entire home/apt\" and '\n",
    "                'accommodates == 2 and '\n",
    "                'bathrooms >= 1 and '\n",
    "                'bed_type == \"Real Bed\"'))\n",
    "        .assign(Price=np.exp(df['log_price']),\n",
    "                CleaningFee=df['cleaning_fee'])\n",
    "        .filter(items=['Price', 'CleaningFee']))"
   ]
  },
  {
   "cell_type": "code",
   "execution_count": 144,
   "metadata": {},
   "outputs": [],
   "source": []
  },
  {
   "cell_type": "code",
   "execution_count": null,
   "metadata": {},
   "outputs": [],
   "source": []
  }
 ],
 "metadata": {
  "kernelspec": {
   "display_name": "Python 3",
   "language": "python",
   "name": "python3"
  },
  "language_info": {
   "codemirror_mode": {
    "name": "ipython",
    "version": 3
   },
   "file_extension": ".py",
   "mimetype": "text/x-python",
   "name": "python",
   "nbconvert_exporter": "python",
   "pygments_lexer": "ipython3",
   "version": "3.7.6"
  }
 },
 "nbformat": 4,
 "nbformat_minor": 4
}
